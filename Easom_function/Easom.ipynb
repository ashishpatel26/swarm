{
 "cells": [
  {
   "cell_type": "markdown",
   "metadata": {},
   "source": [
    "# Analysing PSO on the Easam function\n",
    "\n",
    "f(x1,x2) = -cos(x1)cos(x2)exp(-(x1-pi)²-(x2-pi)²)\n",
    "\n",
    "The function is usually evaluated on the square [-100,100] and has a global miminima at x*=(pi,pi), with f(x*)=-1 \n",
    "\n",
    "## Particle Swarm Optimization\n",
    "### Optimization"
   ]
  },
  {
   "cell_type": "code",
   "execution_count": 1,
   "metadata": {
    "tags": []
   },
   "outputs": [],
   "source": [
    "# Import modules\n",
    "import numpy as np\n",
    "import matplotlib.pyplot as plt\n",
    "from IPython.display import Image\n",
    "\n",
    "# Import PySwarms\n",
    "import pyswarms as ps\n",
    "from pyswarms.utils.functions import single_obj as fx\n",
    "\n",
    "%load_ext autoreload\n",
    "%autoreload 2"
   ]
  },
  {
   "cell_type": "code",
   "execution_count": 2,
   "metadata": {
    "tags": []
   },
   "outputs": [
    {
     "name": "stderr",
     "output_type": "stream",
     "text": [
      "2020-06-26 08:42:20,589 - pyswarms.single.global_best - INFO - Optimize for 50 iters with {'c1': 0.5, 'c2': 0.3, 'w': 0.9}\n",
      "pyswarms.single.global_best: 100%|██████████|50/50, best_cost=-1  \n",
      "2020-06-26 08:42:20,640 - pyswarms.single.global_best - INFO - Optimization finished | best cost: -0.9999833048025727, best pos: [3.13946078 3.14415885]\n"
     ]
    },
    {
     "name": "stdout",
     "output_type": "stream",
     "text": [
      "CPU times: user 62.9 ms, sys: 3.88 ms, total: 66.8 ms\n",
      "Wall time: 55.3 ms\n"
     ]
    }
   ],
   "source": [
    "%%time\n",
    "\n",
    "# Set up hyperparameters:\n",
    "options = {'c1': 0.5, 'c2': 0.3, 'w':0.9}\n",
    "## c1 = cognitive parameter (follow its personal best position)\n",
    "## c2 = social parameter    (follow the swarm's global best position)\n",
    "## w = inertia parameter    (controls the inertia of the swarm's movement)\n",
    "\n",
    "# Call instance of PSO:\n",
    "optimizer = ps.single.GlobalBestPSO(n_particles=20, \n",
    "                                    dimensions=2,\n",
    "                                    bounds=[(0, 0), (5, 5)],\n",
    "                                    options=options,\n",
    "                                    init_pos=None)\n",
    "                                    ## (None: generate the particles randomly)\n",
    "\n",
    "# Perform optimization:\n",
    "cost, pos = optimizer.optimize(objective_func=fx.easom, \n",
    "                               iters=50)"
   ]
  },
  {
   "cell_type": "markdown",
   "metadata": {},
   "source": [
    "### Cost History Plot"
   ]
  },
  {
   "cell_type": "code",
   "execution_count": 3,
   "metadata": {},
   "outputs": [],
   "source": [
    "# Import plotting tool for optimizer analysis\n",
    "from pyswarms.utils.plotters import plot_cost_history\n",
    "\n",
    "# Import class to format plots\n",
    "from pyswarms.utils.plotters.formatters import Designer"
   ]
  },
  {
   "cell_type": "code",
   "execution_count": 4,
   "metadata": {},
   "outputs": [
    {
     "data": {
      "image/png": "[encoded data removed]",
      "text/plain": [
       "<Figure size 720x720 with 1 Axes>"
      ]
     },
     "metadata": {
      "needs_background": "light"
     },
     "output_type": "display_data"
    }
   ],
   "source": [
    "#Create designer for specifying the plot's formatting and design\n",
    "cost_history_designer = Designer(figsize=(10,10),                  \n",
    "                            title_fontsize='large',\n",
    "                            text_fontsize='medium',\n",
    "                            legend='Cost',\n",
    "                            label=['Iterations','Cost'],\n",
    "                            limits=[(0, 50),(0, 80)],\n",
    "                            colormap=plt.cm.viridis)\n",
    "\n",
    "# Create a simple line plot with the cost in the y-axis and the iteration at the x-axis\n",
    "plot_cost_history(cost_history=optimizer.cost_history,\n",
    "                  ax=None,\n",
    "                  title='Cost History',\n",
    "                  designer=cost_history_designer )\n",
    "plt.show()"
   ]
  },
  {
   "cell_type": "markdown",
   "metadata": {},
   "source": [
    "### Visualization\n"
   ]
  },
  {
   "cell_type": "code",
   "execution_count": 5,
   "metadata": {},
   "outputs": [],
   "source": [
    "# Import plotting tools for optimizer analysis\n",
    "from pyswarms.utils.plotters.plotters import (plot_contour, plot_surface)\n",
    "\n",
    "# Import classes to format plots and create meshes\n",
    "from pyswarms.utils.plotters.formatters import (Animator, Designer, Mesher)"
   ]
  },
  {
   "cell_type": "markdown",
   "metadata": {},
   "source": [
    "#### Contour Plot in 2D"
   ]
  },
  {
   "cell_type": "code",
   "execution_count": 6,
   "metadata": {},
   "outputs": [],
   "source": [
    "#Create designer for specifying the plot's formatting and design\n",
    "contour_designer = Designer(figsize=(10,10),                  \n",
    "                            title_fontsize='large',\n",
    "                            text_fontsize='medium',\n",
    "                            legend='Cost',\n",
    "                            label=['x-axis','y-axis'],\n",
    "                            limits=[(0, 5),(0, 5)],\n",
    "                            colormap=plt.cm.viridis)"
   ]
  },
  {
   "cell_type": "code",
   "execution_count": 7,
   "metadata": {},
   "outputs": [],
   "source": [
    "# Create mesher class for plotting contours of objective functions\n",
    "contour_mesher = Mesher(func=fx.easom,\n",
    "                        delta=0.1,                            \n",
    "                        limits=[(0, 5),(0,5)],\n",
    "                        levels=np.arange(-3.0, 1.0, 0.5),\n",
    "                        alpha=0.3)"
   ]
  },
  {
   "cell_type": "code",
   "execution_count": 8,
   "metadata": {},
   "outputs": [],
   "source": [
    "# Create animator for specifying animation behavior\n",
    "contour_animator = Animator(interval=480,\n",
    "                            repeat_delay=120,\n",
    "                            repeat=True)     "
   ]
  },
  {
   "cell_type": "code",
   "execution_count": 9,
   "metadata": {
    "tags": []
   },
   "outputs": [],
   "source": [
    "%%capture\n",
    "\n",
    "# Make animation in 2D\n",
    "animation_2d = plot_contour(pos_history=optimizer.pos_history,\n",
    "                         canvas=None,\n",
    "                         title=\"Contour Plot\",\n",
    "                         mark=(0.0, 0.0),\n",
    "                         designer=contour_designer,\n",
    "                         mesher=contour_mesher,\n",
    "                         animator=contour_animator)"
   ]
  },
  {
   "cell_type": "code",
   "execution_count": 10,
   "metadata": {
    "tags": []
   },
   "outputs": [
    {
     "name": "stderr",
     "output_type": "stream",
     "text": [
      "2020-06-26 08:42:21,250 - matplotlib.animation - INFO - Animation.save using <class 'matplotlib.animation.ImageMagickWriter'>\n",
      "2020-06-26 08:42:21,253 - matplotlib.animation - INFO - MovieWriter._run: running command: convert -size 720x720 -depth 8 -delay 20.0 -loop 0 rgba:- gif_contour_plot.gif\n"
     ]
    },
    {
     "data": {
      "text/html": [
       "<img src=\"gif_contour_plot.gif\"/>"
      ],
      "text/plain": [
       "<IPython.core.display.Image object>"
      ]
     },
     "execution_count": 10,
     "metadata": {},
     "output_type": "execute_result"
    }
   ],
   "source": [
    "# Create a gif of the 2D animation\n",
    "animation_2d.save('gif_contour_plot.gif', writer='imagemagick', fps=5)\n",
    "Image(url='gif_contour_plot.gif')"
   ]
  },
  {
   "cell_type": "markdown",
   "metadata": {},
   "source": [
    "#### Surface Plot in 3D"
   ]
  },
  {
   "cell_type": "code",
   "execution_count": 11,
   "metadata": {},
   "outputs": [],
   "source": [
    "#Create designer for specifying the plot's formatting and design\n",
    "surface_designer = Designer(figsize=(20,20),                  \n",
    "                            title_fontsize='large',\n",
    "                            text_fontsize='medium',\n",
    "                            legend='Cost',\n",
    "                            label=['x-axis','y-axis', 'cost'],\n",
    "                            limits=[(0, 5),(0, 5), (-2.0, 2)],\n",
    "                            colormap=plt.cm.viridis)"
   ]
  },
  {
   "cell_type": "code",
   "execution_count": 12,
   "metadata": {},
   "outputs": [],
   "source": [
    "# Create mesher class for plotting contours of objective functions\n",
    "surface_mesher = Mesher(func=fx.easom,\n",
    "                        delta=0.1,                            \n",
    "                        limits=[(0, 5),(0, 5), (-2.0, 2)],\n",
    "                        levels=np.arange(-3.0, 1.0, 0.2),\n",
    "                        alpha=0.3)"
   ]
  },
  {
   "cell_type": "code",
   "execution_count": 13,
   "metadata": {},
   "outputs": [],
   "source": [
    "# Create animator for specifying animation behavior\n",
    "surface_animator = Animator(interval=480,\n",
    "                            repeat_delay=60,\n",
    "                            repeat=True)"
   ]
  },
  {
   "cell_type": "code",
   "execution_count": 14,
   "metadata": {},
   "outputs": [],
   "source": [
    "# Obtain a position-fitness matrix \n",
    "pos_history_3d = surface_mesher.compute_history_3d(optimizer.pos_history)"
   ]
  },
  {
   "cell_type": "code",
   "execution_count": 15,
   "metadata": {},
   "outputs": [],
   "source": [
    "%%capture\n",
    "\n",
    "# Make animation in 3D\n",
    "animation_3d = plot_surface(pos_history=pos_history_3d,\n",
    "                           canvas=None,\n",
    "                           title='Surface Plot',\n",
    "                           mark=(0,0,0),\n",
    "                           designer=surface_designer, \n",
    "                           mesher=surface_mesher,\n",
    "                           animator=surface_animator)"
   ]
  },
  {
   "cell_type": "code",
   "execution_count": null,
   "metadata": {
    "tags": []
   },
   "outputs": [
    {
     "name": "stderr",
     "output_type": "stream",
     "text": [
      "2020-06-26 08:42:32,478 - matplotlib.animation - INFO - Animation.save using <class 'matplotlib.animation.ImageMagickWriter'>\n",
      "2020-06-26 08:42:32,479 - matplotlib.animation - INFO - MovieWriter._run: running command: convert -size 1440x1440 -depth 8 -delay 20.0 -loop 0 rgba:- gif_surface_plot.gif\n"
     ]
    }
   ],
   "source": [
    "# Create a gif of the 3D animation\n",
    "animation_3d.save('gif_surface_plot.gif', writer='imagemagick', fps=5)\n",
    "Image(url='gif_surface_plot.gif')"
   ]
  },
  {
   "cell_type": "code",
   "execution_count": null,
   "metadata": {},
   "outputs": [],
   "source": []
  }
 ],
 "metadata": {
  "kernelspec": {
   "display_name": "Python 3",
   "language": "python",
   "name": "python3"
  },
  "language_info": {
   "codemirror_mode": {
    "name": "ipython",
    "version": 3
   },
   "file_extension": ".py",
   "mimetype": "text/x-python",
   "name": "python",
   "nbconvert_exporter": "python",
   "pygments_lexer": "ipython3",
   "version": "3.8.3"
  }
 },
 "nbformat": 4,
 "nbformat_minor": 2
}
