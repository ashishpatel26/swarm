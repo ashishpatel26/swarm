{
 "cells": [
  {
   "cell_type": "markdown",
   "metadata": {},
   "source": [
    "# Optimizing the Eggholder function with PSO\n",
    "\n",
    "The Eggholder function is defined as\n",
    "\n",
    "$f(x,y) = -(y+47) \\; sin \\; \\sqrt{|\\frac{x}{2} + (y+47)|} \\;  - \\; x \\; sin \\; \\sqrt{|x - (y+47)|}$\n",
    "\n",
    "and expresses a complicated function with many local minima, but only one global minimum:\n",
    "\n",
    "\n",
    "![](Eggholder_function.jpg)\n",
    "\n",
    "\n",
    "* Global minimum: $f(512, 404.2319) = - 959.6407$\n",
    "* Search domain: $-512 \\leq x,y \\geq 512$\n"
   ]
  },
  {
   "cell_type": "code",
   "execution_count": 3,
   "metadata": {},
   "outputs": [],
   "source": [
    "# Import modules\n",
    "import numpy as np\n",
    "import matplotlib.pyplot as plt\n",
    "from IPython.display import Image\n",
    "\n",
    "# Import PySwarms\n",
    "import pyswarms as ps\n",
    "from pyswarms.utils.functions import single_obj as fx\n",
    "from pyswarms.utils.plotters import (plot_cost_history, plot_contour, plot_surface)\n",
    "\n",
    "# Some more magic so that the notebook will reload external python modules;\n",
    "# see http://stackoverflow.com/questions/1907993/autoreload-of-modules-in-ipython\n",
    "%load_ext autoreload\n",
    "%autoreload 2"
   ]
  },
  {
   "cell_type": "markdown",
   "metadata": {},
   "source": [
    "## Optimizing the function \n",
    "For now, let's try some arbitrary parameters and the standard GlobalBestPSO optimization method.\n",
    "We can then see and find out if and which local minima was found."
   ]
  },
  {
   "cell_type": "code",
   "execution_count": 4,
   "metadata": {},
   "outputs": [
    {
     "name": "stderr",
     "output_type": "stream",
     "text": [
      "2020-06-12 13:40:08,066 - pyswarms.single.global_best - INFO - Optimize for 50 iters with {'c1': 0.5, 'c2': 0.3, 'w': 0.9}\n",
      "pyswarms.single.global_best: 100%|██████████|50/50, best_cost=-911\n",
      "2020-06-12 13:40:08,219 - pyswarms.single.global_best - INFO - Optimization finished | best cost: -911.0748767739793, best pos: [427.8067955  444.05054531]\n"
     ]
    },
    {
     "name": "stdout",
     "output_type": "stream",
     "text": [
      "CPU times: user 100 ms, sys: 28 ms, total: 128 ms\n",
      "Wall time: 165 ms\n"
     ]
    }
   ],
   "source": [
    "%%time\n",
    "# Set up hyperparameters:\n",
    "## c1 = cognitive parameter (follow its personal best position)\n",
    "## c2 = social parameter    (follow the swarm's global best position)\n",
    "## w = inertia parameter    (controls the inertia of the swarm's movement)\n",
    "\n",
    "options = {'c1': 0.5, 'c2': 0.3, 'w':0.9}\n",
    "\n",
    "# Call instance of PSO:\n",
    "## n_particles = number of particles in the swarm\n",
    "## dimensions = number of dimensions in the space\n",
    "## dimensions = number of dimensions in the space\n",
    "## bounds = bounds of the search domain [(Min_x, Min_y), (Max_x, Max_y)]\n",
    "## init_pos = option to explicitly set the particles’ initial positions (None: generate the particles randomly)\n",
    "\n",
    "optimizer = ps.single.GlobalBestPSO(n_particles=20, \n",
    "                                    dimensions=2,\n",
    "                                    bounds=[(-512, -512), (512, 512)],\n",
    "                                    options=options,\n",
    "                                    init_pos=None)\n",
    "\n",
    "# Perform optimization:\n",
    "## objective_func = objective function to be evaluated\n",
    "## iter = number of iterations\n",
    "## n_processes = number of processes to use for parallel particle evaluation\n",
    "## verbose = enable or disable the logs and progress bar\n",
    "\n",
    "cost, pos = optimizer.optimize(objective_func=fx.eggholder, \n",
    "                               iters=50)"
   ]
  },
  {
   "cell_type": "markdown",
   "metadata": {},
   "source": [
    "One can see that the optimizer finds a solution close to the global minima despite many local minima."
   ]
  },
  {
   "cell_type": "markdown",
   "metadata": {},
   "source": [
    "## Plotting the cost history"
   ]
  },
  {
   "cell_type": "code",
   "execution_count": 5,
   "metadata": {},
   "outputs": [
    {
     "data": {
      "image/png": "[encoded data removed]",
      "text/plain": [
       "<Figure size 720x576 with 1 Axes>"
      ]
     },
     "metadata": {
      "needs_background": "light"
     },
     "output_type": "display_data"
    }
   ],
   "source": [
    "plot_cost_history(cost_history=optimizer.cost_history)\n",
    "plt.show()"
   ]
  },
  {
   "cell_type": "markdown",
   "metadata": {},
   "source": [
    "## Visualization of the optimization"
   ]
  },
  {
   "cell_type": "code",
   "execution_count": 5,
   "metadata": {},
   "outputs": [],
   "source": [
    "# This class enables drawing a surface plot of a given objective function\n",
    "from pyswarms.utils.plotters.formatters import Mesher"
   ]
  },
  {
   "cell_type": "code",
   "execution_count": 6,
   "metadata": {},
   "outputs": [],
   "source": [
    "# Initialize mesher:\n",
    "## func = objective function to plot a surface of\n",
    "## limits = the range, in each axis, where the mesh will be drawn\n",
    "## levels = levels on which the contours are shown\n",
    "\n",
    "m = Mesher(func=fx.eggholder, \n",
    "           limits=[(-512,512),(-512,512)], \n",
    "           levels=np.arange(-1000.0, 1000.0, 50))"
   ]
  },
  {
   "cell_type": "markdown",
   "metadata": {},
   "source": [
    "### Plotting in 2D-space"
   ]
  },
  {
   "cell_type": "code",
   "execution_count": null,
   "metadata": {},
   "outputs": [],
   "source": [
    "%%capture\n",
    "# Make animation:\n",
    "## pos_history = position history of the swarm \n",
    "## mesher = mesher class for mesh plots\n",
    "## mark = marks a particular point with a red crossmark \n",
    "\n",
    "animation = plot_contour(pos_history=optimizer.pos_history,\n",
    "                         mesher=m,\n",
    "                         mark=(512,404.2319))"
   ]
  },
  {
   "cell_type": "code",
   "execution_count": 1,
   "metadata": {},
   "outputs": [
    {
     "ename": "NameError",
     "evalue": "name 'animation' is not defined",
     "output_type": "error",
     "traceback": [
      "\u001b[0;31m---------------------------------------------------------------------------\u001b[0m",
      "\u001b[0;31mNameError\u001b[0m                                 Traceback (most recent call last)",
      "\u001b[0;32m<ipython-input-1-364d39d62e4e>\u001b[0m in \u001b[0;36m<module>\u001b[0;34m\u001b[0m\n\u001b[1;32m      1\u001b[0m \u001b[0;31m# Enables us to view it in a Jupyter notebook\u001b[0m\u001b[0;34m\u001b[0m\u001b[0;34m\u001b[0m\u001b[0;34m\u001b[0m\u001b[0m\n\u001b[0;32m----> 2\u001b[0;31m \u001b[0manimation\u001b[0m\u001b[0;34m.\u001b[0m\u001b[0msave\u001b[0m\u001b[0;34m(\u001b[0m\u001b[0;34m'eggholder_plot_2d.gif'\u001b[0m\u001b[0;34m,\u001b[0m \u001b[0mwriter\u001b[0m\u001b[0;34m=\u001b[0m\u001b[0;34m'imagemagick'\u001b[0m\u001b[0;34m,\u001b[0m \u001b[0mfps\u001b[0m\u001b[0;34m=\u001b[0m\u001b[0;36m2\u001b[0m\u001b[0;34m)\u001b[0m\u001b[0;34m\u001b[0m\u001b[0;34m\u001b[0m\u001b[0m\n\u001b[0m\u001b[1;32m      3\u001b[0m \u001b[0mImage\u001b[0m\u001b[0;34m(\u001b[0m\u001b[0murl\u001b[0m\u001b[0;34m=\u001b[0m\u001b[0;34m'eggolder_plot_2d.gif'\u001b[0m\u001b[0;34m)\u001b[0m\u001b[0;34m\u001b[0m\u001b[0;34m\u001b[0m\u001b[0m\n",
      "\u001b[0;31mNameError\u001b[0m: name 'animation' is not defined"
     ]
    }
   ],
   "source": [
    "# Creates a GIF of the animation and enables us to view it in the notebook\n",
    "animation.save('eggholder_plot_2d.gif', writer='imagemagick', fps=4)\n",
    "Image(url='eggholder_plot_2d.gif')"
   ]
  },
  {
   "cell_type": "markdown",
   "metadata": {},
   "source": [
    "### Plotting in 3D-space"
   ]
  },
  {
   "cell_type": "code",
   "execution_count": 7,
   "metadata": {},
   "outputs": [],
   "source": [
    "# Obtain a position-fitness matrix using the Mesher.compute_history_3d() method\n",
    "# It requires a cost history obtainable from the optimizer class\n",
    "\n",
    "pos_history_3d = m.compute_history_3d(optimizer.pos_history)"
   ]
  },
  {
   "cell_type": "code",
   "execution_count": 1,
   "metadata": {},
   "outputs": [],
   "source": [
    "# Make a designer and set the x,y,z limits & label the three axes\n",
    "\n",
    "from pyswarms.utils.plotters.formatters import Designer\n",
    "d = Designer(limits=[(-512,512), (-512,512), (-1000,1000)], \n",
    "             label=['x-axis', 'y-axis', 'z-axis'])"
   ]
  },
  {
   "cell_type": "code",
   "execution_count": null,
   "metadata": {},
   "outputs": [],
   "source": [
    "%%capture\n",
    "# Make animation:\n",
    "## pos_history = position history of the swarm\n",
    "## mesher = mesher class for mesh plots\n",
    "## designer = custom attributes\n",
    "## mark = marks a particular point with a red crossmark \n",
    "\n",
    "animation3d = plot_surface(pos_history=pos_history_3d, \n",
    "                           mesher=m, \n",
    "                           designer=d,      \n",
    "                           mark=(512,404.2319,- 959.6407))              "
   ]
  },
  {
   "cell_type": "code",
   "execution_count": 25,
   "metadata": {},
   "outputs": [
    {
     "name": "stderr",
     "output_type": "stream",
     "text": [
      "2020-06-11 13:18:48,547 - matplotlib.animation - INFO - Animation.save using <class 'matplotlib.animation.ImageMagickWriter'>\n",
      "2020-06-11 13:18:48,550 - matplotlib.animation - INFO - MovieWriter._run: running command: convert -size 720x576 -depth 8 -delay 10.0 -loop 0 rgba:- himmelblau_plot_3d.gif\n"
     ]
    },
    {
     "data": {
      "text/html": [
       "<img src=\"himmelblau_plot_3d.gif\"/>"
      ],
      "text/plain": [
       "<IPython.core.display.Image object>"
      ]
     },
     "execution_count": 25,
     "metadata": {},
     "output_type": "execute_result"
    }
   ],
   "source": [
    "# Creates a GIF of the animation and enables us to view it in the notebook\n",
    "animation3d.save('eggholder_plot_3d.gif', writer='imagemagick', fps=4)\n",
    "Image(url='eggholder_plot_3d.gif')"
   ]
  },
  {
   "cell_type": "code",
   "execution_count": null,
   "metadata": {},
   "outputs": [],
   "source": []
  }
 ],
 "metadata": {
  "kernelspec": {
   "display_name": "Python 3",
   "language": "python",
   "name": "python3"
  },
  "language_info": {
   "codemirror_mode": {
    "name": "ipython",
    "version": 3
   },
   "file_extension": ".py",
   "mimetype": "text/x-python",
   "name": "python",
   "nbconvert_exporter": "python",
   "pygments_lexer": "ipython3",
   "version": "3.7.7"
  }
 },
 "nbformat": 4,
 "nbformat_minor": 4
}
