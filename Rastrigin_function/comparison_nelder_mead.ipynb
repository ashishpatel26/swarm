{
 "cells": [
  {
   "cell_type": "code",
   "execution_count": null,
   "metadata": {},
   "outputs": [],
   "source": [
    "# Import ScyPy module for optimization\n",
    "from scipy.optimize import minimize as scipy_minimize\n",
    "\n",
    "# Import functions\n",
    "from numpy import (cos, pi)# Import ScyPy module for optimization\n",
    "from scipy.optimize import minimize as scipy_minimize\n",
    "\n",
    "# Import functions\n",
    "from numpy import (cos, pi)"
   ]
  },
  {
   "cell_type": "code",
   "execution_count": null,
   "metadata": {},
   "outputs": [],
   "source": [
    "# Define Rastrigin function\n",
    "def rastrigin(x, y):\n",
    "    val = 20 + (x**2 - 10*cos(2*pi*x)) + (x**2 - 10*cos(2*pi*x))\n",
    "    return val\n",
    "\n",
    "# Define initialization points \n",
    "initial_guess = np.random.uniform(low=-5.12, high=5.12, size=(2 + 1, 2))\n",
    "\n",
    "# Set options:\n",
    "options = {'disp': True, \n",
    "           'maxiter': 100, \n",
    "           #'initial_simplex': initial_guess, \n",
    "           'adaptive': True}\n",
    "\n",
    "# Perform optimization:\n",
    "result = scipy_minimize(fun=rastrigin, \n",
    "                        x0=initial_guess[0:],\n",
    "                        method='nelder-mead')\n",
    "                        #options=options)"
   ]
  }
 ],
 "metadata": {
  "language_info": {
   "codemirror_mode": {
    "name": "ipython",
    "version": 3
   },
   "file_extension": ".py",
   "mimetype": "text/x-python",
   "name": "python",
   "nbconvert_exporter": "python",
   "pygments_lexer": "ipython3",
   "version": 3
  },
  "orig_nbformat": 2
 },
 "nbformat": 4,
 "nbformat_minor": 2
}